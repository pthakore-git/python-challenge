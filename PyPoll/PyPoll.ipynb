{
 "cells": [
  {
   "cell_type": "code",
   "execution_count": 8,
   "id": "73eca754",
   "metadata": {},
   "outputs": [],
   "source": [
    "# Import os & csv packacges\n",
    "import os\n",
    "import csv"
   ]
  },
  {
   "cell_type": "code",
   "execution_count": 9,
   "id": "af63991c",
   "metadata": {},
   "outputs": [
    {
     "name": "stdout",
     "output_type": "stream",
     "text": [
      ".\\analysis\\poll_analysis.txt\n"
     ]
    }
   ],
   "source": [
    "# Path to collect data from Resources folder\n",
    "poll_path = os.path.join(\".\",\"Resources\",\"election_data.csv\")\n",
    "# Path to output the results\n",
    "file_to_output = os.path.join(\".\",\"analysis\",\"poll_analysis.txt\")\n",
    "print(file_to_output)"
   ]
  },
  {
   "cell_type": "code",
   "execution_count": 25,
   "id": "9245e08f",
   "metadata": {},
   "outputs": [
    {
     "name": "stdout",
     "output_type": "stream",
     "text": [
      "Election Results\n",
      "--------------------------\n",
      "Total Votes: 369711\n",
      "--------------------------\n",
      "Charles Casper Stockham: 23.049% (85213)\n",
      "Diana DeGette: 73.812% (272892)\n",
      "Raymon Anthony Doane: 3.139% (11606)\n",
      "--------------------------\n",
      "Winner: Diana DeGette\n",
      "--------------------------\n",
      "\n"
     ]
    }
   ],
   "source": [
    "# Open path\n",
    "with open(poll_path) as csvfile:\n",
    "    pollReader = csv.reader(csvfile)\n",
    "\n",
    "\n",
    "#Variable declarations\n",
    "    total_votes = 0\n",
    "    vote_Charles = 0\n",
    "    vote_Diana = 0\n",
    "    vote_Raymon = 0\n",
    "    winner = \"\"\n",
    "\n",
    "\n",
    "#Store header\n",
    "    header = next(pollReader)\n",
    "\n",
    "    #track the total & votes\n",
    "    for row in pollReader:\n",
    "        total_votes += 1\n",
    "        if(row[2] == \"Charles Casper Stockham\"):\n",
    "            vote_Charles += 1\n",
    "        if(row[2] == \"Diana DeGette\"):\n",
    "            vote_Diana += 1\n",
    "        if(row[2] == \"Raymon Anthony Doane\"):\n",
    "            vote_Raymon += 1\n",
    "\n",
    "    #Calculate %\n",
    "    percentage_Charles = (vote_Charles/total_votes)*100\n",
    "    percentage_Diana = (vote_Diana/total_votes)*100\n",
    "    percentage_Raymon = (vote_Raymon/total_votes)*100\n",
    "    \n",
    "    #Calculate winner\n",
    "if(vote_Charles > vote_Diana and vote_Charles > vote_Raymon):\n",
    "    winner = \"Charles Casper Stockham\"\n",
    "    \n",
    "if(vote_Diana > vote_Charles and vote_Diana > vote_Raymon):\n",
    "    winner = \"Diana DeGette\"\n",
    "\n",
    "if(vote_Raymon > vote_Charles and vote_Raymon > vote_Diana):\n",
    "    winner = \"Raymon Anthony Doane\"\n",
    "\n",
    "output = (\n",
    "    f\"Election Results\\n\"\n",
    "    f\"--------------------------\\n\"\n",
    "    f\"Total Votes: {total_votes}\\n\"\n",
    "    f\"--------------------------\\n\"\n",
    "    f\"Charles Casper Stockham: {percentage_Charles:.3f}% ({vote_Charles})\\n\"\n",
    "    f\"Diana DeGette: {percentage_Diana:.3f}% ({vote_Diana})\\n\"\n",
    "    f\"Raymon Anthony Doane: {percentage_Raymon:.3f}% ({vote_Raymon})\\n\"\n",
    "    f\"--------------------------\\n\"\n",
    "    f\"Winner: {winner}\\n\"\n",
    "    f\"--------------------------\\n\"\n",
    ")    \n",
    "print(output)\n",
    "\n",
    "with open(file_to_output, \"w\") as txt_file:\n",
    "    txt_file.write(output)"
   ]
  },
  {
   "cell_type": "code",
   "execution_count": null,
   "id": "9445359d",
   "metadata": {},
   "outputs": [],
   "source": []
  }
 ],
 "metadata": {
  "kernelspec": {
   "display_name": "Python 3 (ipykernel)",
   "language": "python",
   "name": "python3"
  },
  "language_info": {
   "codemirror_mode": {
    "name": "ipython",
    "version": 3
   },
   "file_extension": ".py",
   "mimetype": "text/x-python",
   "name": "python",
   "nbconvert_exporter": "python",
   "pygments_lexer": "ipython3",
   "version": "3.11.4"
  }
 },
 "nbformat": 4,
 "nbformat_minor": 5
}
