{
 "cells": [
  {
   "cell_type": "code",
   "execution_count": 1,
   "id": "44517e9e",
   "metadata": {},
   "outputs": [],
   "source": [
    "# Import os & csv packacges\n",
    "import os\n",
    "import csv"
   ]
  },
  {
   "cell_type": "code",
   "execution_count": 50,
   "id": "c30028a7",
   "metadata": {},
   "outputs": [
    {
     "name": "stdout",
     "output_type": "stream",
     "text": [
      ".\\analysis\\financial_analysis.txt\n"
     ]
    }
   ],
   "source": [
    "# Path to collect data from Resources folder\n",
    "bank_path = os.path.join(\".\",\"Resources\",\"budget_data.csv\")\n",
    "# Path to output the results\n",
    "file_to_output = os.path.join(\".\",\"analysis\",\"financial_analysis.txt\")\n",
    "print(file_to_output)"
   ]
  },
  {
   "cell_type": "code",
   "execution_count": 51,
   "id": "5434b659",
   "metadata": {},
   "outputs": [
    {
     "name": "stdout",
     "output_type": "stream",
     "text": [
      "Financial Analysis\n",
      "--------------------------\n",
      "Total Months: 86\n",
      "Total: $22564198\n",
      "Average Change: $-8311.11\n",
      "Greatest Increase in Profits: Aug-16 ($1862002)\n",
      "Greatest Decrease in Profits: Feb-14 ($-1825558)\n"
     ]
    }
   ],
   "source": [
    "# Open path\n",
    "with open(bank_path) as csvfile:\n",
    "    bankReader = csv.reader(csvfile)\n",
    "\n",
    "#Variable declarations\n",
    "    total_months = 1\n",
    "    total_net = 0\n",
    "    net_change_list = []\n",
    "    month_of_changes = []\n",
    "    greatest = [\"\",0]\n",
    "    least = [\"\",9999999999999]\n",
    "    \n",
    "#Store header\n",
    "    header = next(bankReader)\n",
    "    first_row = next(bankReader)\n",
    "    total_net = int(first_row[1])\n",
    "    prev_net = int(first_row[1])\n",
    "    \n",
    "    \n",
    "    #track the total\n",
    "    for row in bankReader:\n",
    "        total_months += 1\n",
    "        total_net += int(row[1])\n",
    "        \n",
    "    #track the net change\n",
    "        net_change = int(row[1]) - prev_net\n",
    " \n",
    "        prev_net = int(row[1])\n",
    "        net_change_list.append(net_change)\n",
    "        \n",
    "\n",
    "    #Calculate the greatest increase\n",
    "        if(net_change > greatest[1]):\n",
    "\n",
    "            greatest[0] = row[0]\n",
    "            greatest[1] = net_change\n",
    "        \n",
    "    #Calculate the greatest decrease\n",
    "        if(net_change < least[1]):\n",
    "\n",
    "            least[0] = row[0]\n",
    "            least[1] = net_change\n",
    "\n",
    "    net_monthly_avg = sum(net_change_list)/len(net_change_list)\n",
    "output = (\n",
    "    f\"Financial Analysis\\n\"\n",
    "    f\"--------------------------\\n\"\n",
    "    f\"Total Months: {total_months}\\n\"\n",
    "    f\"--------------------------\\n\"\n",
    "    f\"Total: ${total_net}\\n\"\n",
    "    f\"Average Change: ${net_monthly_avg:.2f}\\n\"\n",
    "    f\"Greatest Increase in Profits: {greatest[0]} (${greatest[1]})\\n\"\n",
    "    f\"Greatest Decrease in Profits: {least[0]} (${least[1]})\"\n",
    ")    \n",
    "print(output)\n",
    "\n",
    "with open(file_to_output, \"w\") as txt_file:\n",
    "    txt_file.write(output)"
   ]
  },
  {
   "cell_type": "code",
   "execution_count": null,
   "id": "8782ac67",
   "metadata": {},
   "outputs": [],
   "source": [
    "\n",
    "\n",
    "    "
   ]
  },
  {
   "cell_type": "code",
   "execution_count": null,
   "id": "a088bbad",
   "metadata": {},
   "outputs": [],
   "source": []
  }
 ],
 "metadata": {
  "kernelspec": {
   "display_name": "Python 3 (ipykernel)",
   "language": "python",
   "name": "python3"
  },
  "language_info": {
   "codemirror_mode": {
    "name": "ipython",
    "version": 3
   },
   "file_extension": ".py",
   "mimetype": "text/x-python",
   "name": "python",
   "nbconvert_exporter": "python",
   "pygments_lexer": "ipython3",
   "version": "3.11.4"
  }
 },
 "nbformat": 4,
 "nbformat_minor": 5
}
